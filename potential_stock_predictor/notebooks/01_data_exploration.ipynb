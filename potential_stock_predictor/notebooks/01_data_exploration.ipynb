{
 "cells": [
  {
   "cell_type": "markdown",
   "metadata": {},
   "source": [
    "# 潛力股預測系統 - 資料探索\n",
    "\n",
    "本筆記本用於探索台灣股票系統中的財務資料，為機器學習模型準備特徵。\n",
    "\n",
    "## 目標\n",
    "- 了解資料庫中的資料結構和品質\n",
    "- 探索各種財務指標的分布\n",
    "- 分析目標變數的特性\n",
    "- 識別潛在的特徵工程機會"
   ]
  },
  {
   "cell_type": "code",
   "execution_count": null,
   "metadata": {},
   "outputs": [],
   "source": [
    "# 導入必要的套件\n",
    "import sys\n",
    "import os\n",
    "sys.path.append('..')\n",
    "\n",
    "import pandas as pd\n",
    "import numpy as np\n",
    "import matplotlib.pyplot as plt\n",
    "import seaborn as sns\n",
    "from datetime import datetime, timedelta\n",
    "\n",
    "# 設置中文字體\n",
    "plt.rcParams['font.sans-serif'] = ['Arial Unicode MS', 'SimHei']\n",
    "plt.rcParams['axes.unicode_minus'] = False\n",
    "\n",
    "# 導入自定義模組\n",
    "from src.utils.database import DatabaseManager\n",
    "from src.features.feature_engineering import FeatureEngineer\n",
    "from src.features.target_generator import TargetGenerator\n",
    "\n",
    "# 設置顯示選項\n",
    "pd.set_option('display.max_columns', None)\n",
    "pd.set_option('display.width', None)\n",
    "\n",
    "print(\"✅ 套件導入完成\")"
   ]
  },
  {
   "cell_type": "markdown",
   "metadata": {},
   "source": [
    "## 1. 資料庫連接和基本資訊"
   ]
  },
  {
   "cell_type": "code",
   "execution_count": null,
   "metadata": {},
   "outputs": [],
   "source": [
    "# 初始化資料庫管理器\n",
    "db_manager = DatabaseManager()\n",
    "\n",
    "# 獲取股票清單\n",
    "stock_list = db_manager.get_stock_list(exclude_patterns=['00'])\n",
    "print(f\"📊 股票總數: {len(stock_list)}\")\n",
    "print(f\"📈 上市股票: {len(stock_list[stock_list['market'] == 'TWSE'])}\")\n",
    "print(f\"📉 上櫃股票: {len(stock_list[stock_list['market'] == 'TPEX'])}\")\n",
    "\n",
    "# 顯示股票清單樣本\n",
    "print(\"\\n📋 股票清單樣本:\")\n",
    "stock_list.head(10)"
   ]
  },
  {
   "cell_type": "markdown",
   "metadata": {},
   "source": [
    "## 2. 資料表資訊探索"
   ]
  },
  {
   "cell_type": "code",
   "execution_count": null,
   "metadata": {},
   "outputs": [],
   "source": [
    "# 檢查各個資料表的資訊\n",
    "tables = ['stock_prices', 'monthly_revenues', 'financial_statements', 'balance_sheets', 'cash_flow_statements']\n",
    "\n",
    "for table in tables:\n",
    "    try:\n",
    "        info = db_manager.get_table_info(table)\n",
    "        print(f\"\\n📊 {table}:\")\n",
    "        print(f\"   資料筆數: {info['row_count']:,}\")\n",
    "        print(f\"   欄位數量: {len(info['columns'])}\")\n",
    "        \n",
    "        # 顯示欄位資訊\n",
    "        columns_df = pd.DataFrame(info['columns'])\n",
    "        print(\"   主要欄位:\")\n",
    "        for _, col in columns_df.head(5).iterrows():\n",
    "            print(f\"     - {col['name']} ({col['type']})\")\n",
    "            \n",
    "    except Exception as e:\n",
    "        print(f\"❌ 無法獲取 {table} 資訊: {e}\")"
   ]
  },
  {
   "cell_type": "markdown",
   "metadata": {},
   "source": [
    "## 3. 樣本股票資料探索"
   ]
  },
  {
   "cell_type": "code",
   "execution_count": null,
   "metadata": {},
   "outputs": [],
   "source": [
    "# 選擇幾個代表性股票進行探索\n",
    "sample_stocks = ['2330', '2317', '2454', '3008', '6505']  # 台積電、鴻海、聯發科、大立光、台塑化\n",
    "end_date = '2024-12-31'\n",
    "start_date = '2022-01-01'\n",
    "\n",
    "print(\"🔍 探索樣本股票資料...\")\n",
    "\n",
    "for stock_id in sample_stocks:\n",
    "    try:\n",
    "        # 獲取股價資料\n",
    "        prices = db_manager.get_stock_prices(stock_id, start_date, end_date)\n",
    "        \n",
    "        # 獲取月營收資料\n",
    "        revenues = db_manager.get_monthly_revenue(stock_id, start_date, end_date)\n",
    "        \n",
    "        # 獲取財務報表資料\n",
    "        financials = db_manager.get_financial_statements(stock_id, start_date, end_date)\n",
    "        \n",
    "        stock_name = stock_list[stock_list['stock_id'] == stock_id]['stock_name'].iloc[0] if len(stock_list[stock_list['stock_id'] == stock_id]) > 0 else stock_id\n",
    "        \n",
    "        print(f\"\\n📈 {stock_id} ({stock_name}):\")\n",
    "        print(f\"   股價資料: {len(prices)} 筆\")\n",
    "        print(f\"   月營收資料: {len(revenues)} 筆\")\n",
    "        print(f\"   財務報表資料: {len(financials)} 筆\")\n",
    "        \n",
    "        if not prices.empty:\n",
    "            latest_price = prices.iloc[-1]\n",
    "            print(f\"   最新股價: {latest_price['close_price']:.2f} ({latest_price['date']})\")\n",
    "            \n",
    "    except Exception as e:\n",
    "        print(f\"❌ 股票 {stock_id} 資料探索失敗: {e}\")"
   ]
  },
  {
   "cell_type": "markdown",
   "metadata": {},
   "source": [
    "## 4. 特徵生成測試"
   ]
  },
  {
   "cell_type": "code",
   "execution_count": null,
   "metadata": {},
   "outputs": [],
   "source": [
    "# 測試特徵工程\n",
    "feature_engineer = FeatureEngineer(db_manager)\n",
    "\n",
    "print(\"🔧 測試特徵生成...\")\n",
    "\n",
    "# 為樣本股票生成特徵\n",
    "sample_features = []\n",
    "\n",
    "for stock_id in sample_stocks[:3]:  # 只測試前3個股票\n",
    "    try:\n",
    "        features = feature_engineer.generate_features(stock_id, '2024-06-30')\n",
    "        if not features.empty:\n",
    "            sample_features.append(features)\n",
    "            print(f\"✅ {stock_id}: 生成 {len(features.columns)-2} 個特徵\")  # -2 for stock_id and feature_date\n",
    "        else:\n",
    "            print(f\"⚠️ {stock_id}: 無法生成特徵\")\n",
    "    except Exception as e:\n",
    "        print(f\"❌ {stock_id}: 特徵生成失敗 - {e}\")\n",
    "\n",
    "if sample_features:\n",
    "    # 合併所有特徵\n",
    "    all_features = pd.concat(sample_features, ignore_index=True)\n",
    "    \n",
    "    print(f\"\\n📊 特徵統計:\")\n",
    "    print(f\"   樣本數: {len(all_features)}\")\n",
    "    print(f\"   特徵數: {len(all_features.columns)-2}\")\n",
    "    \n",
    "    # 顯示特徵樣本\n",
    "    feature_cols = [col for col in all_features.columns if col not in ['stock_id', 'feature_date']]\n",
    "    print(f\"\\n🔍 特徵樣本 (前10個):\")\n",
    "    for col in feature_cols[:10]:\n",
    "        print(f\"   {col}: {all_features[col].describe()['mean']:.4f} (平均值)\")\n",
    "else:\n",
    "    print(\"❌ 沒有成功生成任何特徵\")"
   ]
  },
  {
   "cell_type": "markdown",
   "metadata": {},
   "source": [
    "## 5. 目標變數分析"
   ]
  },
  {
   "cell_type": "code",
   "execution_count": null,
   "metadata": {},
   "outputs": [],
   "source": [
    "# 測試目標變數生成\n",
    "target_generator = TargetGenerator(db_manager)\n",
    "\n",
    "print(\"🎯 測試目標變數生成...\")\n",
    "\n",
    "# 生成樣本目標變數\n",
    "feature_dates = ['2024-03-31', '2024-06-30', '2024-09-30']\n",
    "sample_targets = []\n",
    "\n",
    "for stock_id in sample_stocks[:3]:\n",
    "    try:\n",
    "        targets = target_generator.generate_targets(stock_id, feature_dates)\n",
    "        if not targets.empty:\n",
    "            sample_targets.append(targets)\n",
    "            print(f\"✅ {stock_id}: 生成 {len(targets)} 個目標變數\")\n",
    "    except Exception as e:\n",
    "        print(f\"❌ {stock_id}: 目標變數生成失敗 - {e}\")\n",
    "\n",
    "if sample_targets:\n",
    "    # 合併所有目標變數\n",
    "    all_targets = pd.concat(sample_targets, ignore_index=True)\n",
    "    \n",
    "    print(f\"\\n📊 目標變數統計:\")\n",
    "    print(f\"   樣本數: {len(all_targets)}\")\n",
    "    print(f\"   正樣本數: {(all_targets['target'] == 1).sum()}\")\n",
    "    print(f\"   正樣本比例: {all_targets['target'].mean():.2%}\")\n",
    "    print(f\"   平均最大報酬率: {all_targets['max_return'].mean():.2%}\")\n",
    "    \n",
    "    # 分析目標變數分布\n",
    "    analysis = target_generator.analyze_target_distribution(all_targets)\n",
    "    print(f\"\\n📈 目標變數分析:\")\n",
    "    for key, value in analysis.items():\n",
    "        if isinstance(value, dict):\n",
    "            print(f\"   {key}:\")\n",
    "            for sub_key, sub_value in value.items():\n",
    "                print(f\"     {sub_key}: {sub_value:.4f}\")\n",
    "        else:\n",
    "            print(f\"   {key}: {value}\")\n",
    "else:\n",
    "    print(\"❌ 沒有成功生成任何目標變數\")"
   ]
  },
  {
   "cell_type": "markdown",
   "metadata": {},
   "source": [
    "## 6. 資料品質檢查"
   ]
  },
  {
   "cell_type": "code",
   "execution_count": null,
   "metadata": {},
   "outputs": [],
   "source": [
    "# 檢查資料品質\n",
    "print(\"🔍 資料品質檢查...\")\n",
    "\n",
    "if sample_features:\n",
    "    features_df = pd.concat(sample_features, ignore_index=True)\n",
    "    \n",
    "    # 檢查缺失值\n",
    "    missing_stats = features_df.isnull().sum()\n",
    "    missing_features = missing_stats[missing_stats > 0]\n",
    "    \n",
    "    print(f\"\\n📊 缺失值統計:\")\n",
    "    if len(missing_features) > 0:\n",
    "        print(f\"   有缺失值的特徵數: {len(missing_features)}\")\n",
    "        print(\"   主要缺失特徵:\")\n",
    "        for feature, count in missing_features.head(10).items():\n",
    "            print(f\"     {feature}: {count}/{len(features_df)} ({count/len(features_df):.1%})\")\n",
    "    else:\n",
    "        print(\"   ✅ 沒有缺失值\")\n",
    "    \n",
    "    # 檢查異常值\n",
    "    numeric_features = features_df.select_dtypes(include=[np.number]).columns\n",
    "    numeric_features = [col for col in numeric_features if col not in ['stock_id']]\n",
    "    \n",
    "    print(f\"\\n📊 數值特徵統計:\")\n",
    "    print(f\"   數值特徵數: {len(numeric_features)}\")\n",
    "    \n",
    "    if len(numeric_features) > 0:\n",
    "        # 計算基本統計\n",
    "        stats = features_df[numeric_features].describe()\n",
    "        print(\"\\n   基本統計 (前5個特徵):\")\n",
    "        print(stats.iloc[:, :5].round(4))\n",
    "        \n",
    "        # 檢查極值\n",
    "        print(\"\\n   極值檢查:\")\n",
    "        for col in numeric_features[:5]:\n",
    "            values = features_df[col].dropna()\n",
    "            if len(values) > 0:\n",
    "                q1, q3 = values.quantile([0.25, 0.75])\n",
    "                iqr = q3 - q1\n",
    "                outliers = values[(values < q1 - 1.5*iqr) | (values > q3 + 1.5*iqr)]\n",
    "                print(f\"     {col}: {len(outliers)} 個異常值 ({len(outliers)/len(values):.1%})\")\n",
    "\n",
    "print(\"\\n✅ 資料探索完成！\")"
   ]
  }
 ],
 "metadata": {
  "kernelspec": {
   "display_name": "Python 3",
   "language": "python",
   "name": "python3"
  },
  "language_info": {
   "codemirror_mode": {
    "name": "ipython",
    "version": 3
   },
   "file_extension": ".py",
   "mimetype": "text/x-python",
   "name": "python",
   "nbconvert_exporter": "python",
   "pygments_lexer": "ipython3",
   "version": "3.8.0"
  }
 },
 "nbformat": 4,
 "nbformat_minor": 4
}
